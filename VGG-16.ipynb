{
 "cells": [
  {
   "cell_type": "markdown",
   "id": "c8ac57a0",
   "metadata": {},
   "source": [
    "# VGG 16 (2014)"
   ]
  },
  {
   "cell_type": "code",
   "execution_count": 1,
   "id": "e00a768d",
   "metadata": {},
   "outputs": [
    {
     "name": "stderr",
     "output_type": "stream",
     "text": [
      "D:\\Users\\Евгений Артёменко\\PycharmProjects\\Projects\\Machine learning\\venv\\lib\\site-packages\\tqdm\\auto.py:21: TqdmWarning: IProgress not found. Please update jupyter and ipywidgets. See https://ipywidgets.readthedocs.io/en/stable/user_install.html\n",
      "  from .autonotebook import tqdm as notebook_tqdm\n"
     ]
    }
   ],
   "source": [
    "import torch\n",
    "import torch.nn as nn\n",
    "import torch.nn.functional as F\n",
    "import torchvision as tv\n",
    "\n",
    "import numpy as np\n",
    "import os\n",
    "import cv2\n",
    "import matplotlib.pyplot as plt\n",
    "from tqdm import tqdm"
   ]
  },
  {
   "cell_type": "markdown",
   "id": "b48969b9",
   "metadata": {},
   "source": [
    "## Этап 1: Подготовка данных"
   ]
  },
  {
   "cell_type": "code",
   "execution_count": 4,
   "id": "078434df",
   "metadata": {},
   "outputs": [],
   "source": [
    "class CatDogsDataset(torch.utils.data.Dataset):\n",
    "    def __init__(self, path_dir1:str, path_dir2:str):\n",
    "        super().__init__()\n",
    "        \n",
    "        self.path_dir1 = path_dir1\n",
    "        self.path_dir2 = path_dir2\n",
    "        \n",
    "        self.dir1_list = sorted(os.listdir(path_dir1))\n",
    "        self.dir2_list = sorted(os.listdir(path_dir2))\n",
    "        \n",
    "    def __len__(self):\n",
    "        return len(self.dir1_list) + len(self.dir2_list)\n",
    "    \n",
    "    def __getitem__(self, idx):\n",
    "        \n",
    "        if idx < len(self.dir1_list):\n",
    "            class_id = 0\n",
    "            img_path = os.path.join(self.path_dir1, self.dir1_list[idx])\n",
    "        else:\n",
    "            class_id = 1\n",
    "            idx -= len(self.dir1_list)\n",
    "            img_path = os.path.join(self.path_dir2, self.dir2_list[idx])\n",
    "        \n",
    "        img = cv2.imread(img_path, cv2.IMREAD_COLOR)\n",
    "        img = cv2.cvtColor(img, cv2.COLOR_BGR2RGB)\n",
    "        img = img.astype(np.float32)\n",
    "        img = img/255.0\n",
    "        \n",
    "        img = cv2.resize(img, (128, 128), interpolation=cv2.INTER_AREA)\n",
    "        img = img.transpose((2, 0, 1))\n",
    "        \n",
    "        t_img = torch.from_numpy(img)\n",
    "        t_class_id = torch.tensor(class_id)\n",
    "        \n",
    "        return {'img': t_img, 'label': t_class_id}"
   ]
  },
  {
   "cell_type": "code",
   "execution_count": 5,
   "id": "66a60e26",
   "metadata": {},
   "outputs": [],
   "source": [
    "train_dogs_path = 'training_set\\dogs'\n",
    "train_cats_path = 'training_set\\cats'\n",
    "\n",
    "test_dogs_path = 'test_set\\dogs'\n",
    "test_cats_path = 'test_set\\cats'\n",
    "\n",
    "train_ds = CatDogsDataset(train_dogs_path, train_cats_path)\n",
    "test_ds = CatDogsDataset(test_dogs_path, test_cats_path)"
   ]
  },
  {
   "cell_type": "markdown",
   "id": "b4c1e51f",
   "metadata": {},
   "source": [
    "## Этап 2: DataLoader"
   ]
  },
  {
   "cell_type": "code",
   "execution_count": 6,
   "id": "ae386f8e",
   "metadata": {},
   "outputs": [],
   "source": [
    "batch_size = 4\n",
    "\n",
    "train_loader = torch.utils.data.DataLoader(\n",
    "    train_ds, shuffle=True, \n",
    "    batch_size=batch_size, num_workers=1, drop_last=True\n",
    ")\n",
    "test_loader = torch.utils.data.DataLoader(\n",
    "    test_ds, shuffle=False,\n",
    "    batch_size=batch_size, num_workers=1, drop_last=False\n",
    ")"
   ]
  },
  {
   "cell_type": "markdown",
   "id": "f76a02eb",
   "metadata": {},
   "source": [
    "## Этап 3: Архитектура нейроннной сети"
   ]
  },
  {
   "cell_type": "code",
   "execution_count": 7,
   "id": "4fbf3e23",
   "metadata": {},
   "outputs": [],
   "source": [
    "class VGG16(nn.Module):\n",
    "    def __init__(self, out_nc):\n",
    "        super().__init__()\n",
    "        \n",
    "        self.activation = nn.ReLU(inplace=True)\n",
    "        self.maxpool = nn.MaxPool2d(2, 2)\n",
    "        \n",
    "        self.conv0 = nn.Conv2d(3, 64, kernel_size=3, padding=1)\n",
    "        self.conv1 = nn.Conv2d(64, 64, kernel_size=3, padding=1)\n",
    "        \n",
    "        self.conv2 = nn.Conv2d(64, 128, kernel_size=3, padding=1)\n",
    "        self.conv3 = nn.Conv2d(128, 128, kernel_size=3, padding=1)\n",
    "        \n",
    "        self.conv4 = nn.Conv2d(128, 256, kernel_size=3, padding=1)\n",
    "        self.conv5 = nn.Conv2d(256, 256, kernel_size=3, padding=1)\n",
    "        self.conv6 = nn.Conv2d(256, 256, kernel_size=3, padding=1)\n",
    "        \n",
    "        self.conv7 = nn.Conv2d(256, 512, kernel_size=3, padding=1)\n",
    "        self.conv8 = nn.Conv2d(512, 512, kernel_size=3, padding=1)\n",
    "        self.conv9 = nn.Conv2d(512, 512, kernel_size=3, padding=1)\n",
    "        \n",
    "        self.conv10 = nn.Conv2d(512, 512, kernel_size=3, padding=1)\n",
    "        self.conv11 = nn.Conv2d(512, 512, kernel_size=3, padding=1)\n",
    "        self.conv12 = nn.Conv2d(512, 512, kernel_size=3, padding=1)\n",
    "        \n",
    "        self.flat = nn.Flatten()\n",
    "        \n",
    "        self.linear1 = nn.Linear(7*7*512, 4096)\n",
    "        self.linear2 = nn.Linear(7*7*512, 4096)\n",
    "        self.linear3 = nn.Linear(7*7*512, out_nc)\n",
    "\n",
    "        \n",
    "    def forward(self, X):\n",
    "        out = self.conv0(X)\n",
    "        out = self.activation(out)\n",
    "        out = self.conv1(out)\n",
    "        out = self.activation(out)\n",
    "        \n",
    "        out = self.maxpool(out)\n",
    "        \n",
    "        out = self.conv2(out)\n",
    "        out = self.activation(out)\n",
    "        out = self.conv3(out)\n",
    "        out = self.activation(out)\n",
    "        \n",
    "        out = self.maxpool(out)\n",
    "        \n",
    "        out = self.conv4(out)\n",
    "        out = self.activation(out)\n",
    "        out = self.conv5(out)\n",
    "        out = self.activation(out)\n",
    "        out = self.conv6(out)\n",
    "        out = self.activation(out)\n",
    "        \n",
    "        out = self.maxpool(out)\n",
    "        \n",
    "        out = self.conv7(out)\n",
    "        out = self.activation(out)\n",
    "        out = self.conv8(out)\n",
    "        out = self.activation(out)\n",
    "        out = self.conv9(out)\n",
    "        out = self.activation(out)\n",
    "        \n",
    "        out = self.maxpool(out)\n",
    "        \n",
    "        out = self.conv10(out)\n",
    "        out = self.activation(out)\n",
    "        out = self.conv11(out)\n",
    "        out = self.activation(out)\n",
    "        out = self.conv12(out)\n",
    "        out = self.activation(out)\n",
    "        \n",
    "        out = self.maxpool(out)\n",
    "        \n",
    "        out = self.flat(out)\n",
    "        \n",
    "        out = self.linear1(out)\n",
    "        out = self.activation(out)\n",
    "        out = self.linear1(out)\n",
    "        out = self.activation(out)\n",
    "        out = self.linear1(out)\n",
    "        out = self.activation(out)\n",
    "        \n",
    "        return out"
   ]
  },
  {
   "cell_type": "code",
   "execution_count": 8,
   "id": "efd111b8",
   "metadata": {},
   "outputs": [],
   "source": [
    "def count_parameters(model):\n",
    "    return sum(p.numel() for p in model.parameters() if p.requires_grad)\n",
    "\n",
    "def accuracy(pred, label):\n",
    "    answer = F.softmax(pred.detach()).numpy().argmax(1) == label.numpy().argmax(1)\n",
    "    return answer.mean()"
   ]
  },
  {
   "cell_type": "code",
   "execution_count": 9,
   "id": "e262ea10",
   "metadata": {},
   "outputs": [],
   "source": [
    "# device = 'cuda' if torch.cuda.is_available() else 'cpu'"
   ]
  },
  {
   "cell_type": "code",
   "execution_count": 10,
   "id": "97a7ff4d",
   "metadata": {},
   "outputs": [
    {
     "data": {
      "text/plain": [
       "220268865"
      ]
     },
     "execution_count": 10,
     "metadata": {},
     "output_type": "execute_result"
    }
   ],
   "source": [
    "model = VGG16(1)\n",
    "# model = model.to(device)\n",
    "count_parameters(model)"
   ]
  },
  {
   "cell_type": "code",
   "execution_count": 11,
   "id": "aaac471b",
   "metadata": {},
   "outputs": [],
   "source": [
    "loss_func = nn.BCEWithLogitsLoss()\n",
    "optimizer = torch.optim.Adam(model.parameters(), lr=0.1, betas=(0.9, 0.999))"
   ]
  },
  {
   "cell_type": "markdown",
   "id": "98ff6382",
   "metadata": {},
   "source": [
    "## Этап 4: Обучение нейронной сети"
   ]
  },
  {
   "cell_type": "code",
   "execution_count": null,
   "id": "ca201ae5",
   "metadata": {},
   "outputs": [],
   "source": [
    "epochs = 7\n",
    "\n",
    "for epoch in range(epochs):\n",
    "    loss_val = 0\n",
    "    acc_val = 0\n",
    "    for sample in (pbar := tqdm(train_loader)):\n",
    "        img, label = sample['img'], sample['label']\n",
    "#         img = img.to(device)\n",
    "#         label = label.float().to(device)\n",
    "        optimizer.zero_grad()\n",
    "        \n",
    "#         label = F.one_hot(label, 2).float()\n",
    "        pred = model(img)\n",
    "        \n",
    "        loss = loss_func(pred,label)\n",
    "        loss.backward()\n",
    "        loss_val += loss.item()\n",
    "        \n",
    "        optimizer.step()\n",
    "        \n",
    "        acc_val += accuracy(pred, label)\n",
    "        \n",
    "    pbar.set_description(f'loss: {loss.item()} \\ accuracy: {accuracy(pred, label)}')\n",
    "    print(loss_val/len(train_loader))\n",
    "    print(acc_val/len(train_loader))"
   ]
  }
 ],
 "metadata": {
  "kernelspec": {
   "display_name": "Python 3 (ipykernel)",
   "language": "python",
   "name": "python3"
  },
  "language_info": {
   "codemirror_mode": {
    "name": "ipython",
    "version": 3
   },
   "file_extension": ".py",
   "mimetype": "text/x-python",
   "name": "python",
   "nbconvert_exporter": "python",
   "pygments_lexer": "ipython3",
   "version": "3.10.4"
  }
 },
 "nbformat": 4,
 "nbformat_minor": 5
}
